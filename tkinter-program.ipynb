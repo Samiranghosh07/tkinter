{
 "cells": [
  {
   "cell_type": "code",
   "execution_count": 71,
   "id": "changing-replica",
   "metadata": {},
   "outputs": [],
   "source": [
    "#python gui program\n",
    "import tkinter as tk\n",
    "from tkinter import *\n",
    "gui = tk.Tk()\n",
    "gui.title('Python Gui Program')\n",
    "gui.geometry('800x600')\n",
    "gui.maxsize(800,600)\n",
    "gui.minsize(800,600)\n",
    "\n",
    "#label creation\n",
    "# label1 = Label(gui, text='Hello, I am a Label',font='Comicsansms', background='yellow')\n",
    "# label1.grid(pady=280, padx=280)\n",
    "\n",
    "label2 = Label(gui, text='Y AXIS',background='red').pack()\n",
    "label2 = Label(gui, text='X AXIS',background='yellow').pack(pady=280)\n",
    "gui.mainloop()"
   ]
  },
  {
   "cell_type": "code",
   "execution_count": 128,
   "id": "excessive-china",
   "metadata": {},
   "outputs": [],
   "source": [
    "import tkinter as tk\n",
    "from tkinter import *\n",
    "from PIL import Image, ImageTk\n",
    "gui = tk.Tk()\n",
    "gui.title('Python Gui Program')\n",
    "gui.geometry('800x600')\n",
    "\n",
    "image = Image.open('photo.PNG')\n",
    "picture = ImageTk.PhotoImage(image)\n",
    "label = Label(image=picture).pack()\n",
    "gui.mainloop()"
   ]
  },
  {
   "cell_type": "code",
   "execution_count": 119,
   "id": "private-tradition",
   "metadata": {},
   "outputs": [
    {
     "name": "stdout",
     "output_type": "stream",
     "text": [
      "hello world...\n",
      "hello world...\n"
     ]
    }
   ],
   "source": [
    "import tkinter as tk\n",
    "from tkinter import *\n",
    "gui = tk.Tk()\n",
    "gui.title('Python Gui')\n",
    "gui.geometry('800x600')\n",
    "# label1 = Label(gui,text='I am Y axis').pack(side=LEFT,fill='x',padx=5)\n",
    "# label2 = Label(gui,text='I am X axis').pack(side=TOP,fill='y',padx=5)\n",
    "# label3 = Label(gui,text='I am Y axis').pack(side=RIGHT,fill='x',padx=5)\n",
    "# label4 = Label(gui,text='I am X axis').pack(side=BOTTOM,fill='y',padx=5)\n",
    "\n",
    "fr1 = Frame(gui,borderwidth=6,bg='red',relief=SUNKEN)\n",
    "fr1.pack(side=TOP,fill='x')\n",
    "fr2 = Frame(gui,borderwidth=10,bg='yellow',relief=SUNKEN)\n",
    "fr2.pack(side=LEFT,fill='y')\n",
    "label1 = Label(fr1,text='hello x').pack()\n",
    "label2 = Label(fr2,text='hello y').pack()\n",
    "gui.mainloop()"
   ]
  },
  {
   "cell_type": "code",
   "execution_count": 127,
   "id": "growing-muslim",
   "metadata": {},
   "outputs": [
    {
     "name": "stdout",
     "output_type": "stream",
     "text": [
      "hello world...\n",
      "hello world...\n",
      "hello world...\n"
     ]
    }
   ],
   "source": [
    "import tkinter as tk\n",
    "from tkinter import *\n",
    "gui = tk.Tk()\n",
    "gui.title('Python Gui')\n",
    "gui.geometry('800x600')\n",
    "def hello():\n",
    "    print('hello world...')\n",
    "\n",
    "fr1  =Frame(gui,bg='pink').pack()\n",
    "b1 = Button(fr1,text='click me', command=hello,).pack(padx=250)\n",
    "\n",
    "gui.mainloop()"
   ]
  },
  {
   "cell_type": "code",
   "execution_count": 39,
   "id": "varying-exploration",
   "metadata": {},
   "outputs": [
    {
     "name": "stdout",
     "output_type": "stream",
     "text": [
      "username : bcvb and password : cvbcvbcvbcvbcv\n",
      "username : bcvb and password : cvbcvbcvbcvbcv\n",
      "username : bcvb and password : cvbcvbcvbcvbcv\n",
      "username : bcvb and password : cvbcvbcvbcvbcv\n"
     ]
    }
   ],
   "source": [
    "#test program\n",
    "\n",
    "from tkinter import *\n",
    "import tkinter as t1\n",
    "gui = t1.Tk()\n",
    "gui.geometry('800x600')\n",
    "gui.title('gui')\n",
    "#gui.bell()\n",
    "\n",
    "username = Label(gui,text='username').grid()\n",
    "password = Label(gui,text='password').grid(row=1)\n",
    "\n",
    "uservalue = StringVar()\n",
    "passvalue = StringVar()\n",
    "\n",
    "userentry = Entry(gui,textvariable=uservalue).grid(row=0,column=1)\n",
    "passentry = Entry(gui,textvariable=passvalue).grid(row=1,column=1)\n",
    "\n",
    "def getval():\n",
    "    print(f'username : {uservalue.get()} and password : {passvalue.get()}')\n",
    "    \n",
    "b1=Button(gui,text='CLICK ME', command=getval).grid()\n",
    "gui.mainloop()"
   ]
  },
  {
   "cell_type": "code",
   "execution_count": 96,
   "id": "painted-outdoors",
   "metadata": {},
   "outputs": [
    {
     "name": "stdout",
     "output_type": "stream",
     "text": [
      "Submitted form\n",
      ",,,,, 1\n",
      "Submitted form\n",
      ",,,,, 1\n",
      "Submitted form\n",
      ",,,,, 1\n",
      "Submitted form\n",
      ",,,,, 1\n"
     ]
    }
   ],
   "source": [
    "from tkinter import *\n",
    "import tkinter as t1\n",
    "import time\n",
    "t2 = time.asctime()\n",
    "c1 =calendar.month(2021,1)\n",
    "gui = t1.Tk()\n",
    "gui.geometry('800x600')\n",
    "gui.title('gui')\n",
    "l1 = Label(gui,text='Welcome To Sam Travels',font='timesnewrawman, 25',foreground='red').grid()\n",
    "l2 = Label(gui,text=str(t2)).grid(row=1)\n",
    "\n",
    "\n",
    "name = Label(gui,text='Name').grid()\n",
    "phone = Label(gui,text='Phone').grid()\n",
    "gender = Label(gui,text='Gender').grid()\n",
    "emergency_contact = Label(gui,text='Emergency contact').grid()\n",
    "payment_mode = Label(gui,text='Payment Mode').grid()\n",
    "\n",
    "\n",
    "namevalue = StringVar()\n",
    "phonevalue = StringVar()\n",
    "gendervalue = StringVar()\n",
    "emergency_contactvalue = StringVar()\n",
    "payment_modevalue = StringVar()\n",
    "c1value = IntVar()\n",
    "\n",
    "nameentry = Entry(gui,textvariable=name).grid()\n",
    "phoneentry = Entry(gui,textvariable=phone).grid()\n",
    "genderentry = Entry(gui,textvariable=gender).grid()\n",
    "emergency_contactentry = Entry(gui,textvariable=emergency_contact).grid()\n",
    "payment_modeentry = Entry(gui,textvariable=payment_mode).grid()\n",
    "\n",
    "def getval():\n",
    "    print('Submitted form')\n",
    "    print(f'{namevalue.get()},{phonevalue.get()},{gendervalue.get()},{emergency_contactvalue.get()},{payment_modevalue.get()}, {c1value.get()}')\n",
    "    \n",
    "\n",
    "with open('E:/Program Files/MY_STUDY/Python/My_Projects/pythoncode/python-test-program/f2.txt','a') as filewrite:\n",
    "    filewrite.write(f'{namevalue.get()},{phonevalue.get()},{gendervalue.get()},{emergency_contactvalue.get()},{payment_modevalue.get()}, {c1value.get()}')\n",
    "        \n",
    "              \n",
    "c1 = Checkbutton(gui,text='Want to pre book your meals ?', variable=c1value).grid()\n",
    "b1 = Button(gui,text='Submit to Sam Travels', command=getval).grid()\n",
    "gui.mainloop()"
   ]
  },
  {
   "cell_type": "code",
   "execution_count": 9,
   "id": "hispanic-melbourne",
   "metadata": {},
   "outputs": [
    {
     "name": "stdout",
     "output_type": "stream",
     "text": [
      "hello world\n",
      "exit\n"
     ]
    }
   ],
   "source": [
    "from tkinter import *\n",
    "import tkinter as t1\n",
    "import tkinter.messagebox as msg\n",
    "gui = t1.Tk()\n",
    "gui.geometry('800x600')\n",
    "gui.title('gui')\n",
    "\n",
    "#create canvas through tkinter\n",
    "# can1  = Canvas(gui,width=600,height=600)\n",
    "# can1.pack()\n",
    "# can1.create_line(10,10,100,100,fill='red')\n",
    "# can1.create_oval(100,100,200,250,fill='blue')\n",
    "# can1.create_rectangle(50,50,180,180,fill='pink')\n",
    "# can1.create_arc(50,50,200,200,fill='cyan')\n",
    "\n",
    "#create message box\n",
    "def f1():\n",
    "    msg.showinfo('help aslkdjaskld')\n",
    "    msg.showerror('GUI not supported')\n",
    "    msg.showwarning('this is ur first warning')\n",
    "    \n",
    "def f2():\n",
    "    m1 = msg.askokcancel('are you sure?')\n",
    "    \n",
    "    if m1:\n",
    "        print('hello world')\n",
    "    else:\n",
    "        print('exit')\n",
    "    \n",
    "Button(gui,text='cleck me',command=f1).grid()\n",
    "Button(gui,text='kiss me',command=f2).grid()\n",
    "\n",
    "gui.mainloop()"
   ]
  },
  {
   "cell_type": "code",
   "execution_count": null,
   "id": "handled-sitting",
   "metadata": {},
   "outputs": [],
   "source": []
  }
 ],
 "metadata": {
  "kernelspec": {
   "display_name": "Python 3",
   "language": "python",
   "name": "python3"
  },
  "language_info": {
   "codemirror_mode": {
    "name": "ipython",
    "version": 3
   },
   "file_extension": ".py",
   "mimetype": "text/x-python",
   "name": "python",
   "nbconvert_exporter": "python",
   "pygments_lexer": "ipython3",
   "version": "3.9.2"
  }
 },
 "nbformat": 4,
 "nbformat_minor": 5
}
